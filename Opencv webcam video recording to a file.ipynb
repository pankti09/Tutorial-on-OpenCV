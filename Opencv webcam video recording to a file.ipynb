{
 "cells": [
  {
   "cell_type": "code",
   "execution_count": 3,
   "metadata": {},
   "outputs": [],
   "source": [
    "import cv2"
   ]
  },
  {
   "cell_type": "code",
   "execution_count": 4,
   "metadata": {},
   "outputs": [],
   "source": [
    "def main():\n",
    "    windowName='Live Video Feed' \n",
    "    cv2.namedWindow(windowName)\n",
    "    \n",
    "    cap=cv2.VideoCapture(0)\n",
    "    \n",
    "    filename=\"C:\\\\Users\\\\SHAILESH SHAH\\\\Documents\\\\opencv\\\\output.avi\"\n",
    "    codec=cv2.VideoWriter_fourcc('X','V','I','D')\n",
    "    framerate=30\n",
    "    resolution=(640,480)\n",
    "    \n",
    "    VideoFileOutput=cv2.VideoWriter(filename,codec,framerate,resolution)\n",
    "    \n",
    "    if cap.isOpened():\n",
    "        ret,img=cap.read()\n",
    "    else:\n",
    "        ret=False\n",
    "    while ret:\n",
    "        \n",
    "        ret,img=cap.read()\n",
    "        VideoFileOutput.write(img)\n",
    "        out=cv2.cvtColor(img,cv2.COLOR_BGR2GRAY)\n",
    "        cv2.imshow(\"Gray\",out)\n",
    "        \n",
    "        cv2.imshow(windowName,img)\n",
    "        \n",
    "        if cv2.waitKey(1) & 0xFF == ord('q'):\n",
    "            break\n",
    "    \n",
    "    VideoFileOutput.release()\n",
    "    cap.release()\n",
    "    cv2.destroyAllWindows()\n",
    "    \n",
    "    \n",
    "if __name__=='__name__':\n",
    "    main()"
   ]
  },
  {
   "cell_type": "code",
   "execution_count": 5,
   "metadata": {},
   "outputs": [],
   "source": [
    "main()"
   ]
  },
  {
   "cell_type": "code",
   "execution_count": null,
   "metadata": {},
   "outputs": [],
   "source": []
  }
 ],
 "metadata": {
  "kernelspec": {
   "display_name": "Python 3",
   "language": "python",
   "name": "python3"
  },
  "language_info": {
   "codemirror_mode": {
    "name": "ipython",
    "version": 3
   },
   "file_extension": ".py",
   "mimetype": "text/x-python",
   "name": "python",
   "nbconvert_exporter": "python",
   "pygments_lexer": "ipython3",
   "version": "3.6.4"
  }
 },
 "nbformat": 4,
 "nbformat_minor": 2
}
