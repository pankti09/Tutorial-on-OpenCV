{
 "cells": [
  {
   "cell_type": "code",
   "execution_count": 1,
   "metadata": {},
   "outputs": [],
   "source": [
    "import cv2\n",
    "import matplotlib.pyplot as plt"
   ]
  },
  {
   "cell_type": "code",
   "execution_count": null,
   "metadata": {},
   "outputs": [],
   "source": [
    "def main():\n",
    "    \n",
    "    path='C:\\\\Users\\\\SHAILESH SHAH\\\\Documents\\\\opencv\\\\misc\\\\'\n",
    "    imgpath1 = path + '4.2.01.tiff'\n",
    "    imgpath2 = path + '4.1.01.tiff'\n",
    "    \n",
    "    img1=cv2.imread(imgpath1,1)\n",
    "    img2=cv2.imread(imgpath2,1)\n",
    "    \n",
    "    img1 = cv2.cvtColor(img1,cv2.COLOR_BGR2RGB)\n",
    "    img2 = cv2.cvtColor(img2,cv2.COLOR_BGR2RGB)        \n",
    "    \n",
    "    titles=['Liquid drop','Arina']\n",
    "    images=[img1,img2]\n",
    "    \n",
    "    for i in range(2):\n",
    "        plt.subplot(1,2,i+1)\n",
    "        plt.imshow(images[i])\n",
    "        plt.title(titles[i])\n",
    "        plt.xticks([])\n",
    "        plt.yticks([])\n",
    "    "
   ]
  }
 ],
 "metadata": {
  "kernelspec": {
   "display_name": "Python 3",
   "language": "python",
   "name": "python3"
  },
  "language_info": {
   "codemirror_mode": {
    "name": "ipython",
    "version": 3
   },
   "file_extension": ".py",
   "mimetype": "text/x-python",
   "name": "python",
   "nbconvert_exporter": "python",
   "pygments_lexer": "ipython3",
   "version": "3.6.4"
  }
 },
 "nbformat": 4,
 "nbformat_minor": 2
}
