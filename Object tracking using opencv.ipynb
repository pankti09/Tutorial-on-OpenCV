{
 "cells": [
  {
   "cell_type": "code",
   "execution_count": 1,
   "metadata": {},
   "outputs": [],
   "source": [
    "import cv2\n",
    "import numpy as np"
   ]
  },
  {
   "cell_type": "code",
   "execution_count": 2,
   "metadata": {},
   "outputs": [],
   "source": [
    "def main():\n",
    "    \n",
    "    cap=cv2.VideoCapture(0)\n",
    "    \n",
    "    if cap.isOpened():\n",
    "        ret,img=cap.read()\n",
    "    else:\n",
    "        ret=False\n",
    "        \n",
    "    while ret:\n",
    "        ret,img=cap.read()\n",
    "        \n",
    "        hsv=cv2.cvtColor(img,cv2.COLOR_BGR2HSV)\n",
    "        \n",
    "        #Blue Color\n",
    "        low=np.array([100,50,50])\n",
    "        high=np.array([140,255,255])\n",
    "\n",
    "        image_mask=cv2.inRange(hsv,low,high)\n",
    "    \n",
    "        cv2.imshow(\"Image Mask:\",image_mask)    \n",
    "        cv2.imshow(\"Original Webcam Feed\",img)\n",
    "        if cv2.waitKey(1) & 0xFF == ord('q'):\n",
    "            break\n",
    "    cap.release() \n",
    "    cv2.destroyAllWindows()"
   ]
  },
  {
   "cell_type": "code",
   "execution_count": 3,
   "metadata": {},
   "outputs": [],
   "source": [
    "main()"
   ]
  },
  {
   "cell_type": "code",
   "execution_count": null,
   "metadata": {},
   "outputs": [],
   "source": [
    "  "
   ]
  }
 ],
 "metadata": {
  "kernelspec": {
   "display_name": "Python 3",
   "language": "python",
   "name": "python3"
  },
  "language_info": {
   "codemirror_mode": {
    "name": "ipython",
    "version": 3
   },
   "file_extension": ".py",
   "mimetype": "text/x-python",
   "name": "python",
   "nbconvert_exporter": "python",
   "pygments_lexer": "ipython3",
   "version": "3.6.4"
  }
 },
 "nbformat": 4,
 "nbformat_minor": 2
}
