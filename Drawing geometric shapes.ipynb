{
 "cells": [
  {
   "cell_type": "code",
   "execution_count": 2,
   "metadata": {},
   "outputs": [],
   "source": [
    "import cv2 \n",
    "import numpy as np"
   ]
  },
  {
   "cell_type": "code",
   "execution_count": 3,
   "metadata": {},
   "outputs": [],
   "source": [
    "def main():\n",
    "    \n",
    "    img=np.zeros((256,256,3),np.uint8)\n",
    "    \n",
    "    cv2.line(img,(0,78),(99,0),(255,67,99),8)\n",
    "    cv2.rectangle(img,(50,100),(89,77),(89,78,200),2)\n",
    "    cv2.circle(img,(80,90),25,(100,100,100),3)\n",
    "    cv2.ellipse(img,(170,170),(50,40),10,10,360,(200,200,200),8)\n",
    "\n",
    "    cv2.imshow('Shapes',img)\n",
    "    cv2.waitKey(0)\n",
    "    cv2.destroyAllWindows()\n",
    "    \n",
    "if __name__==\"__main__\":\n",
    "    main()"
   ]
  },
  {
   "cell_type": "raw",
   "metadata": {},
   "source": [
    "(0,78) and (99,0) shows from where to where line would vary and then (255,0,0) shows of which color it would be and last parameter is of thickness\n",
    "\n",
    "Rectangle has same parameter meaning as line.\n",
    "\n",
    "In circle, (80,90)shows center of the circle, 25 shows radius of the circle, (100,100,100) shows color channel and 12 \n",
    "shows thickness.\n",
    "\n",
    "In ellipse,(170,170) shows center of the ellipse, (50,40)=(major axis,minor axis)\n",
    "-> (10-start angle,10-end angle,360-shows how much is to be displayed in terms of angle)-shows angle of rotation \n",
    "->(200,200,200) shows color channel\n",
    "->8 shows thickness\n"
   ]
  }
 ],
 "metadata": {
  "kernelspec": {
   "display_name": "Python 3",
   "language": "python",
   "name": "python3"
  },
  "language_info": {
   "codemirror_mode": {
    "name": "ipython",
    "version": 3
   },
   "file_extension": ".py",
   "mimetype": "text/x-python",
   "name": "python",
   "nbconvert_exporter": "python",
   "pygments_lexer": "ipython3",
   "version": "3.6.4"
  }
 },
 "nbformat": 4,
 "nbformat_minor": 2
}
