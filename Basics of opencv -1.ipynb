{
 "cells": [
  {
   "cell_type": "code",
   "execution_count": 1,
   "metadata": {},
   "outputs": [
    {
     "name": "stdout",
     "output_type": "stream",
     "text": [
      "3.4.2\n"
     ]
    }
   ],
   "source": [
    "import cv2\n",
    " \n",
    "def main():\n",
    "    (print(cv2.__version__))\n",
    "    imgpath=\"C:\\\\Users\\\\SHAILESH SHAH\\\\Documents\\\\opencv\\\\misc\\\\4.1.01.tiff\"\n",
    "    img=cv2.imread(imgpath,1)\n",
    "    \n",
    "    outpath=\"C:\\\\Users\\\\SHAILESH SHAH\\\\Documents\\\\opencv\\\\output images\\\\4.1.01.tiff\"\n",
    "    \n",
    "    cv2.namedWindow('Arina',cv2.WINDOW_AUTOSIZE)\n",
    "    cv2.imshow('Arina',img)\n",
    "    \n",
    "    cv2.imwrite(outpath,img)\n",
    "    \n",
    "    \n",
    "    cv2.waitKey(0)\n",
    "    cv2.destroyAllWindows()\n",
    "    #cv2.desytroyWindow('Arina')- deleting specified window\n",
    "    \n",
    "if __name__ == \"__main__\":\n",
    "     main()\n",
    "    "
   ]
  },
  {
   "cell_type": "raw",
   "metadata": {},
   "source": [
    "This if name == main is mainly like entry point in python because it is predefined in python that __name__==__'main__'"
   ]
  },
  {
   "cell_type": "raw",
   "metadata": {},
   "source": [
    "Here, cv2.imread(imgpath,1) .1-Normal image show up ,0-Red gray scale, -1 - Normal image show up and shows alpha tensparency of the image"
   ]
  }
 ],
 "metadata": {
  "kernelspec": {
   "display_name": "Python 3",
   "language": "python",
   "name": "python3"
  },
  "language_info": {
   "codemirror_mode": {
    "name": "ipython",
    "version": 3
   },
   "file_extension": ".py",
   "mimetype": "text/x-python",
   "name": "python",
   "nbconvert_exporter": "python",
   "pygments_lexer": "ipython3",
   "version": "3.6.4"
  }
 },
 "nbformat": 4,
 "nbformat_minor": 2
}
